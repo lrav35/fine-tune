{
 "cells": [
  {
   "cell_type": "code",
   "execution_count": 8,
   "metadata": {},
   "outputs": [
    {
     "name": "stderr",
     "output_type": "stream",
     "text": [
      "/Users/n0342839/code/personal/fine-tune/.venv/lib/python3.9/site-packages/tqdm/auto.py:21: TqdmWarning: IProgress not found. Please update jupyter and ipywidgets. See https://ipywidgets.readthedocs.io/en/stable/user_install.html\n",
      "  from .autonotebook import tqdm as notebook_tqdm\n"
     ]
    }
   ],
   "source": [
    "import pandas as pd\n",
    "import datasets"
   ]
  },
  {
   "cell_type": "code",
   "execution_count": 4,
   "metadata": {},
   "outputs": [
    {
     "data": {
      "text/html": [
       "<div>\n",
       "<style scoped>\n",
       "    .dataframe tbody tr th:only-of-type {\n",
       "        vertical-align: middle;\n",
       "    }\n",
       "\n",
       "    .dataframe tbody tr th {\n",
       "        vertical-align: top;\n",
       "    }\n",
       "\n",
       "    .dataframe thead th {\n",
       "        text-align: right;\n",
       "    }\n",
       "</style>\n",
       "<table border=\"1\" class=\"dataframe\">\n",
       "  <thead>\n",
       "    <tr style=\"text-align: right;\">\n",
       "      <th></th>\n",
       "      <th>en</th>\n",
       "      <th>fr</th>\n",
       "    </tr>\n",
       "  </thead>\n",
       "  <tbody>\n",
       "    <tr>\n",
       "      <th>0</th>\n",
       "      <td>Jamaica: “I am HIV”</td>\n",
       "      <td>Jamaïque : J’ai le VIH</td>\n",
       "    </tr>\n",
       "    <tr>\n",
       "      <th>1</th>\n",
       "      <td>It's widely acknowledged, in the Caribbean and...</td>\n",
       "      <td>Il est largement reconnu, dans les Caraïbes et...</td>\n",
       "    </tr>\n",
       "    <tr>\n",
       "      <th>2</th>\n",
       "      <td>For this woman, however, photographed in the s...</td>\n",
       "      <td>Pour cette femme, cependant, photographiée dan...</td>\n",
       "    </tr>\n",
       "    <tr>\n",
       "      <th>3</th>\n",
       "      <td>As Bacon writes on her blog:</td>\n",
       "      <td>Comme Bacon écrit sur son blog:</td>\n",
       "    </tr>\n",
       "    <tr>\n",
       "      <th>4</th>\n",
       "      <td>“When I asked to take her picture, I suggested...</td>\n",
       "      <td>“Quand je lui ai demandé de la prendre en phot...</td>\n",
       "    </tr>\n",
       "    <tr>\n",
       "      <th>...</th>\n",
       "      <td>...</td>\n",
       "      <td>...</td>\n",
       "    </tr>\n",
       "    <tr>\n",
       "      <th>342055</th>\n",
       "      <td>But now, it's always pain.</td>\n",
       "      <td>Maintenant, tout n'est que souffrance.  »</td>\n",
       "    </tr>\n",
       "    <tr>\n",
       "      <th>342056</th>\n",
       "      <td>“As of today…today is the beginning of a new l...</td>\n",
       "      <td>« A partir d'aujourd'hui… une nouvelle vie com...</td>\n",
       "    </tr>\n",
       "    <tr>\n",
       "      <th>342057</th>\n",
       "      <td>When I contacted Bishnu eight months later, sh...</td>\n",
       "      <td>Lorsque j'ai contacté Bishnu huit mois plus ta...</td>\n",
       "    </tr>\n",
       "    <tr>\n",
       "      <th>342058</th>\n",
       "      <td>She's planning for her future, just as she was...</td>\n",
       "      <td>Elle fait des plans pour l'avenir, tout comme ...</td>\n",
       "    </tr>\n",
       "    <tr>\n",
       "      <th>342059</th>\n",
       "      <td>But now she's not wearing bangles.</td>\n",
       "      <td>Seulement, aujourd'hui, elle ne porte pas de b...</td>\n",
       "    </tr>\n",
       "  </tbody>\n",
       "</table>\n",
       "<p>342060 rows × 2 columns</p>\n",
       "</div>"
      ],
      "text/plain": [
       "                                                       en  \\\n",
       "0                                     Jamaica: “I am HIV”   \n",
       "1       It's widely acknowledged, in the Caribbean and...   \n",
       "2       For this woman, however, photographed in the s...   \n",
       "3                            As Bacon writes on her blog:   \n",
       "4       “When I asked to take her picture, I suggested...   \n",
       "...                                                   ...   \n",
       "342055                         But now, it's always pain.   \n",
       "342056  “As of today…today is the beginning of a new l...   \n",
       "342057  When I contacted Bishnu eight months later, sh...   \n",
       "342058  She's planning for her future, just as she was...   \n",
       "342059                 But now she's not wearing bangles.   \n",
       "\n",
       "                                                       fr  \n",
       "0                                  Jamaïque : J’ai le VIH  \n",
       "1       Il est largement reconnu, dans les Caraïbes et...  \n",
       "2       Pour cette femme, cependant, photographiée dan...  \n",
       "3                         Comme Bacon écrit sur son blog:  \n",
       "4       “Quand je lui ai demandé de la prendre en phot...  \n",
       "...                                                   ...  \n",
       "342055          Maintenant, tout n'est que souffrance.  »  \n",
       "342056  « A partir d'aujourd'hui… une nouvelle vie com...  \n",
       "342057  Lorsque j'ai contacté Bishnu huit mois plus ta...  \n",
       "342058  Elle fait des plans pour l'avenir, tout comme ...  \n",
       "342059  Seulement, aujourd'hui, elle ne porte pas de b...  \n",
       "\n",
       "[342060 rows x 2 columns]"
      ]
     },
     "execution_count": 4,
     "metadata": {},
     "output_type": "execute_result"
    }
   ],
   "source": [
    "df = pd.read_parquet(\"en-fr-translation.parquet\", engine='pyarrow')\n",
    "df"
   ]
  },
  {
   "cell_type": "code",
   "execution_count": 5,
   "metadata": {},
   "outputs": [],
   "source": [
    "# create jsonl files\n",
    "df.to_json('en-fr-translation.jsonl', orient='records', lines=True)"
   ]
  },
  {
   "cell_type": "code",
   "execution_count": 9,
   "metadata": {},
   "outputs": [
    {
     "name": "stderr",
     "output_type": "stream",
     "text": [
      "Downloading data files: 100%|██████████| 1/1 [00:00<00:00, 4899.89it/s]\n",
      "Extracting data files: 100%|██████████| 1/1 [00:00<00:00, 285.40it/s]\n",
      "Generating train split: 342060 examples [00:00, 2300564.96 examples/s]\n"
     ]
    },
    {
     "data": {
      "text/plain": [
       "Dataset({\n",
       "    features: ['en', 'fr'],\n",
       "    num_rows: 342060\n",
       "})"
      ]
     },
     "execution_count": 9,
     "metadata": {},
     "output_type": "execute_result"
    }
   ],
   "source": [
    "# play around with dataset / tokenizer\n",
    "train_dataset = datasets.load_dataset('json', data_files='en-fr-translation.jsonl', split='train')\n",
    "train_dataset"
   ]
  },
  {
   "cell_type": "code",
   "execution_count": null,
   "metadata": {},
   "outputs": [],
   "source": []
  }
 ],
 "metadata": {
  "kernelspec": {
   "display_name": ".venv",
   "language": "python",
   "name": "python3"
  },
  "language_info": {
   "codemirror_mode": {
    "name": "ipython",
    "version": 3
   },
   "file_extension": ".py",
   "mimetype": "text/x-python",
   "name": "python",
   "nbconvert_exporter": "python",
   "pygments_lexer": "ipython3",
   "version": "3.9.7"
  }
 },
 "nbformat": 4,
 "nbformat_minor": 2
}
